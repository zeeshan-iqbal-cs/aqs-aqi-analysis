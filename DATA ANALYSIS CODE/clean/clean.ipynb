{
  "cells": [
    {
      "cell_type": "code",
      "execution_count": 9,
      "outputs": [
        {
          "name": "stdout",
          "text": [
            "Definitions ended\n"
          ],
          "output_type": "stream"
        }
      ],
      "source": "import re\n\nimport pandas as pd\n\n# GLOBAL Variables\nROOT \u003d \"../../DATA/\"\nPROVIDER \u003d \"PAQI\"\n\ndef print_col(c):\n    for n_i in range(len(c)):\n        print(n_i, \"]\", c[n_i])\n\nprint(\"Definitions ended\")\n",
      "metadata": {
        "pycharm": {
          "metadata": false,
          "name": "#%%\n",
          "is_executing": false
        }
      }
    },
    {
      "cell_type": "code",
      "execution_count": 10,
      "outputs": [
        {
          "name": "stdout",
          "text": [
            "Column names\n0 ] Serial Number\n1 ] City\n2 ] Name\n3 ] Longitude\n4 ] Latitude\n5 ] Online since\n6 ] Datetime (UTC+5)\n7 ] PM2.5 (μg/m3)\n8 ] US AQI\n9 ] CO2 (ppm)\n10 ] Temperature (°C)\n11 ] Relative Humidity (%)\n12 ] Outdoor PM2.5 (μg/m3)\n13 ] Outdoor US AQI\n"
          ],
          "output_type": "stream"
        }
      ],
      "source": "# Read data\ndataDf \u003d pd.read_csv(ROOT + PROVIDER + \".csv\")\n# Separate columns\ncols \u003d list(dataDf.columns)\n\n# print\nprint(\"Column names\")\nprint_col(cols)\n",
      "metadata": {
        "pycharm": {
          "metadata": false,
          "name": "#%%\n",
          "is_executing": false
        }
      }
    },
    {
      "cell_type": "code",
      "execution_count": 11,
      "outputs": [
        {
          "name": "stdout",
          "text": [
            "0 ] serial_number\n1 ] city\n2 ] name\n3 ] longitude\n4 ] latitude\n5 ] online_since\n6 ] datetime\n7 ] pm2_5\n8 ] us_aqi\n9 ] co2\n10 ] temperature\n11 ] relative_humidity\n12 ] outdoor_pm2_5\n13 ] outdoor_us_aqi\n"
          ],
          "output_type": "stream"
        }
      ],
      "source": "# clean column names\nclean_col \u003d list(cols)\nfor i in range(len(cols)):\n    clean_col[i] \u003d clean_col[i].lower()\n    clean_col[i] \u003d clean_col[i].split(\" (\")[0]\n    clean_col[i] \u003d re.sub(\"\\s|\\.\", \"_\", clean_col[i])\n\nclean_data \u003d pd.DataFrame(dataDf)\nclean_data.columns \u003d clean_col\nprint_col(clean_col)\n",
      "metadata": {
        "pycharm": {
          "metadata": false,
          "name": "#%%\n",
          "is_executing": false
        }
      }
    },
    {
      "cell_type": "code",
      "execution_count": 13,
      "outputs": [
        {
          "name": "stdout",
          "text": [
            "Saving clean data\n"
          ],
          "output_type": "stream"
        }
      ],
      "source": "print(\"Saving clean data\")\nclean_data.to_csv(ROOT + PROVIDER + \"-clean\" + \".csv\")",
      "metadata": {
        "pycharm": {
          "metadata": false,
          "name": "#%%\n",
          "is_executing": false
        }
      }
    }
  ],
  "metadata": {
    "language_info": {
      "codemirror_mode": {
        "name": "ipython",
        "version": 2
      },
      "file_extension": ".py",
      "mimetype": "text/x-python",
      "name": "python",
      "nbconvert_exporter": "python",
      "pygments_lexer": "ipython2",
      "version": "2.7.6"
    },
    "kernelspec": {
      "name": "python3",
      "language": "python",
      "display_name": "Python 3"
    },
    "stem_cell": {
      "cell_type": "raw",
      "source": "",
      "metadata": {
        "pycharm": {
          "metadata": false
        }
      }
    }
  },
  "nbformat": 4,
  "nbformat_minor": 0
}